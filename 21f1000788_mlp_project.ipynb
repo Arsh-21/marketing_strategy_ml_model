{
  "cells": [
    {
      "cell_type": "markdown",
      "id": "bd6b2803",
      "metadata": {
        "_cell_guid": "b1076dfc-b9ad-4769-8c92-a6c4dae69d19",
        "_uuid": "8f2839f25d086af736a60e9eeb907d3b93b6e0e5",
        "papermill": {
          "duration": 0.010037,
          "end_time": "2022-12-18T17:00:00.200796",
          "exception": false,
          "start_time": "2022-12-18T17:00:00.190759",
          "status": "completed"
        },
        "tags": [],
        "id": "bd6b2803"
      },
      "source": [
        "# This Python 3 environment comes with many helpful analytics libraries installed\n",
        "# It is defined by the kaggle/python Docker image: https://github.com/kaggle/docker-python\n",
        "# For example, here's several helpful packages to load\n",
        "\n",
        "import numpy as np # linear algebra\n",
        "import pandas as pd # data processing, CSV file I/O (e.g. pd.read_csv)\n",
        "\n",
        "# Input data files are available in the read-only \"../input/\" directory\n",
        "# For example, running this (by clicking run or pressing Shift+Enter) will list all files under the input directory\n",
        "\n",
        "import os\n",
        "for dirname, _, filenames in os.walk('/kaggle/input'):\n",
        "    for filename in filenames:\n",
        "        print(os.path.join(dirname, filename))\n",
        "\n",
        "# You can write up to 20GB to the current directory (/kaggle/working/) that gets preserved as output when you create a version using \"Save & Run All\" \n",
        "# You can also write temporary files to /kaggle/temp/, but they won't be saved outside of the current session"
      ]
    },
    {
      "cell_type": "code",
      "execution_count": null,
      "id": "257f4320",
      "metadata": {
        "execution": {
          "iopub.execute_input": "2022-12-18T17:00:00.220852Z",
          "iopub.status.busy": "2022-12-18T17:00:00.220013Z",
          "iopub.status.idle": "2022-12-18T17:00:00.230685Z",
          "shell.execute_reply": "2022-12-18T17:00:00.229464Z"
        },
        "papermill": {
          "duration": 0.023824,
          "end_time": "2022-12-18T17:00:00.233317",
          "exception": false,
          "start_time": "2022-12-18T17:00:00.209493",
          "status": "completed"
        },
        "tags": [],
        "id": "257f4320"
      },
      "outputs": [],
      "source": [
        "import numpy as np\n",
        "import pandas as pd"
      ]
    },
    {
      "cell_type": "code",
      "execution_count": null,
      "id": "23e09d2b",
      "metadata": {
        "execution": {
          "iopub.execute_input": "2022-12-18T17:00:00.252730Z",
          "iopub.status.busy": "2022-12-18T17:00:00.251793Z",
          "iopub.status.idle": "2022-12-18T17:00:00.416762Z",
          "shell.execute_reply": "2022-12-18T17:00:00.415509Z"
        },
        "papermill": {
          "duration": 0.178366,
          "end_time": "2022-12-18T17:00:00.420066",
          "exception": false,
          "start_time": "2022-12-18T17:00:00.241700",
          "status": "completed"
        },
        "tags": [],
        "id": "23e09d2b"
      },
      "outputs": [],
      "source": [
        "train = pd.read_csv('/kaggle/input/marketing-strategy-personalised-offer/train_data.csv')\n",
        "test = pd.read_csv('/kaggle/input/marketing-strategy-personalised-offer/test_data.csv')"
      ]
    },
    {
      "cell_type": "code",
      "execution_count": null,
      "id": "0c9d5227",
      "metadata": {
        "execution": {
          "iopub.execute_input": "2022-12-18T17:00:00.439978Z",
          "iopub.status.busy": "2022-12-18T17:00:00.439191Z",
          "iopub.status.idle": "2022-12-18T17:00:00.445695Z",
          "shell.execute_reply": "2022-12-18T17:00:00.444450Z"
        },
        "papermill": {
          "duration": 0.019782,
          "end_time": "2022-12-18T17:00:00.448484",
          "exception": false,
          "start_time": "2022-12-18T17:00:00.428702",
          "status": "completed"
        },
        "tags": [],
        "id": "0c9d5227",
        "outputId": "9bf32b49-4b84-46b5-d5af-7c9ce78dfcd1"
      },
      "outputs": [
        {
          "name": "stdout",
          "output_type": "stream",
          "text": [
            "(12379, 31) (5305, 30)\n"
          ]
        }
      ],
      "source": [
        "print(train.shape,test.shape)"
      ]
    },
    {
      "cell_type": "code",
      "execution_count": null,
      "id": "370b7183",
      "metadata": {
        "execution": {
          "iopub.execute_input": "2022-12-18T17:00:00.472042Z",
          "iopub.status.busy": "2022-12-18T17:00:00.470718Z",
          "iopub.status.idle": "2022-12-18T17:00:00.494285Z",
          "shell.execute_reply": "2022-12-18T17:00:00.493127Z"
        },
        "papermill": {
          "duration": 0.0378,
          "end_time": "2022-12-18T17:00:00.496806",
          "exception": false,
          "start_time": "2022-12-18T17:00:00.459006",
          "status": "completed"
        },
        "tags": [],
        "id": "370b7183",
        "outputId": "a5530d44-0393-4553-f892-8833fe83a931"
      },
      "outputs": [
        {
          "name": "stdout",
          "output_type": "stream",
          "text": [
            "(12379, 30) (12379,)\n",
            "(12379, 31)\n"
          ]
        }
      ],
      "source": [
        "train_x = train.drop('Offer Accepted',axis='columns')\n",
        "train_y = train['Offer Accepted']\n",
        "print(train_x.shape,train_y.shape)\n",
        "print(train.shape)"
      ]
    },
    {
      "cell_type": "code",
      "execution_count": null,
      "id": "a1800e37",
      "metadata": {
        "execution": {
          "iopub.execute_input": "2022-12-18T17:00:00.525103Z",
          "iopub.status.busy": "2022-12-18T17:00:00.524377Z",
          "iopub.status.idle": "2022-12-18T17:00:00.541902Z",
          "shell.execute_reply": "2022-12-18T17:00:00.540625Z"
        },
        "papermill": {
          "duration": 0.037185,
          "end_time": "2022-12-18T17:00:00.544413",
          "exception": false,
          "start_time": "2022-12-18T17:00:00.507228",
          "status": "completed"
        },
        "tags": [],
        "id": "a1800e37",
        "outputId": "3157a80e-e22b-4ca0-c27d-a243c02bcbdb"
      },
      "outputs": [
        {
          "name": "stdout",
          "output_type": "stream",
          "text": [
            "(12379, 28) (5305, 28)\n"
          ]
        }
      ],
      "source": [
        "# cols = ['car','travelled_more_than_5mins_for_offer','Job/Job Industry']\n",
        "cols = ['car','travelled_more_than_5mins_for_offer']\n",
        "train_x = train_x.drop(cols,axis=1)\n",
        "test = test.drop(cols,axis=1)\n",
        "print(train_x.shape,test.shape)"
      ]
    },
    {
      "cell_type": "code",
      "execution_count": null,
      "id": "37d5bc34",
      "metadata": {
        "execution": {
          "iopub.execute_input": "2022-12-18T17:00:00.568327Z",
          "iopub.status.busy": "2022-12-18T17:00:00.566837Z",
          "iopub.status.idle": "2022-12-18T17:00:00.573457Z",
          "shell.execute_reply": "2022-12-18T17:00:00.571796Z"
        },
        "papermill": {
          "duration": 0.022739,
          "end_time": "2022-12-18T17:00:00.576205",
          "exception": false,
          "start_time": "2022-12-18T17:00:00.553466",
          "status": "completed"
        },
        "tags": [],
        "id": "37d5bc34"
      },
      "outputs": [],
      "source": [
        "# train_x.columns"
      ]
    },
    {
      "cell_type": "code",
      "execution_count": null,
      "id": "c5800c35",
      "metadata": {
        "execution": {
          "iopub.execute_input": "2022-12-18T17:00:00.595233Z",
          "iopub.status.busy": "2022-12-18T17:00:00.594816Z",
          "iopub.status.idle": "2022-12-18T17:00:01.695568Z",
          "shell.execute_reply": "2022-12-18T17:00:01.694446Z"
        },
        "papermill": {
          "duration": 1.113764,
          "end_time": "2022-12-18T17:00:01.698709",
          "exception": false,
          "start_time": "2022-12-18T17:00:00.584945",
          "status": "completed"
        },
        "tags": [],
        "id": "c5800c35"
      },
      "outputs": [],
      "source": [
        "from sklearn.model_selection import train_test_split\n",
        "x_train,x_test,y_train,y_test = train_test_split(train_x,train_y,test_size=0.20,random_state=42)"
      ]
    },
    {
      "cell_type": "code",
      "execution_count": null,
      "id": "f89f9c34",
      "metadata": {
        "execution": {
          "iopub.execute_input": "2022-12-18T17:00:01.719272Z",
          "iopub.status.busy": "2022-12-18T17:00:01.718576Z",
          "iopub.status.idle": "2022-12-18T17:00:01.915698Z",
          "shell.execute_reply": "2022-12-18T17:00:01.914408Z"
        },
        "papermill": {
          "duration": 0.211072,
          "end_time": "2022-12-18T17:00:01.918855",
          "exception": false,
          "start_time": "2022-12-18T17:00:01.707783",
          "status": "completed"
        },
        "tags": [],
        "id": "f89f9c34"
      },
      "outputs": [],
      "source": [
        "from sklearn.impute import SimpleImputer,KNNImputer\n",
        "\n",
        "col = ['no_visited_Cold drinks',\n",
        "       'Restaur_spend_less_than20',\n",
        "       'no_visited_bars',\n",
        "       'no_Take-aways',\n",
        "       'Restaur_spend_greater_than20']\n",
        "\n",
        "imputer = SimpleImputer(strategy='most_frequent')\n",
        "\n",
        "x_train[col] = imputer.fit_transform(x_train[col])\n",
        "x_test[col] = imputer.transform(x_test[col])\n",
        "test[col] = imputer.transform(test[col])\n",
        "train_x[col] = imputer.fit_transform(train_x[col])\n",
        "\n",
        "cols = ['offer expiration','income_range','no_visited_Cold drinks','travelled_more_than_15mins_for_offer',\n",
        "        'Restaur_spend_less_than20','Marital Status', 'restaurant type', 'age', 'Prefer western over chinese',\n",
        "        'travelled_more_than_25mins_for_offer', 'no_visited_bars', 'gender', 'restuarant_same_direction_house',\n",
        "        'Cooks regularly', 'Customer type', 'Qualification', 'is foodie', 'no_Take-aways',\n",
        "        'restuarant_opposite_direction_house', 'has Children', 'visit restaurant with rating (avg)', \n",
        "        'temperature','Restaur_spend_greater_than20', 'Travel Time', 'Climate','drop location', 'Prefer home food']\n",
        "\n",
        "x_train = pd.DataFrame(x_train, columns = cols)\n",
        "x_test = pd.DataFrame(x_test, columns = cols)\n",
        "test = pd.DataFrame(test, columns = cols)\n",
        "train_x = pd.DataFrame(train_x, columns = cols)"
      ]
    },
    {
      "cell_type": "code",
      "execution_count": null,
      "id": "50798988",
      "metadata": {
        "execution": {
          "iopub.execute_input": "2022-12-18T17:00:01.941130Z",
          "iopub.status.busy": "2022-12-18T17:00:01.939996Z",
          "iopub.status.idle": "2022-12-18T17:00:01.944591Z",
          "shell.execute_reply": "2022-12-18T17:00:01.943613Z"
        },
        "papermill": {
          "duration": 0.017697,
          "end_time": "2022-12-18T17:00:01.946879",
          "exception": false,
          "start_time": "2022-12-18T17:00:01.929182",
          "status": "completed"
        },
        "tags": [],
        "id": "50798988"
      },
      "outputs": [],
      "source": [
        "#x_train.columns"
      ]
    },
    {
      "cell_type": "code",
      "execution_count": null,
      "id": "90319d2d",
      "metadata": {
        "execution": {
          "iopub.execute_input": "2022-12-18T17:00:01.967357Z",
          "iopub.status.busy": "2022-12-18T17:00:01.966877Z",
          "iopub.status.idle": "2022-12-18T17:00:02.426256Z",
          "shell.execute_reply": "2022-12-18T17:00:02.424792Z"
        },
        "papermill": {
          "duration": 0.474243,
          "end_time": "2022-12-18T17:00:02.430093",
          "exception": false,
          "start_time": "2022-12-18T17:00:01.955850",
          "status": "completed"
        },
        "tags": [],
        "id": "90319d2d"
      },
      "outputs": [],
      "source": [
        "from sklearn.preprocessing import LabelEncoder, OrdinalEncoder, OneHotEncoder\n",
        "from sklearn.compose import ColumnTransformer\n",
        "\n",
        "le = LabelEncoder()\n",
        "y_train = le.fit_transform(y_train)\n",
        "y_test = le.fit_transform(y_test)\n",
        "train_y = le.fit_transform(train_y)\n",
        "\n",
        "cols = x_train.columns\n",
        "\n",
        "ordinal = ['income_range',\n",
        "           'no_visited_Cold drinks',\n",
        "           'Restaur_spend_less_than20',\n",
        "           'age',\n",
        "           'no_visited_bars',\n",
        "           'no_Take-aways',\n",
        "           'visit restaurant with rating (avg)',\n",
        "           'temperature',\n",
        "           'Restaur_spend_greater_than20',\n",
        "           'Travel Time'] \n",
        "\n",
        "nominal = ['offer expiration',\n",
        "           'Marital Status',\n",
        "           'restaurant type',\n",
        "           'gender',\n",
        "           'Customer type',\n",
        "           'Qualification',\n",
        "           'is foodie',\n",
        "           'Climate',\n",
        "           'drop location',\n",
        "          'Job/Job Industry']\n",
        "\n",
        "rest = ['travelled_more_than_15mins_for_offer',\n",
        "        'Prefer western over chinese',\n",
        "        'travelled_more_than_25mins_for_offer',\n",
        "        'restuarant_same_direction_house',\n",
        "        'Cooks regularly',\n",
        "        'is foodie',\n",
        "        'restuarant_opposite_direction_house',\n",
        "        'has Children',\n",
        "        'Prefer home food',\n",
        "        'income_range',\n",
        "        'no_visited_Cold drinks',\n",
        "        'Restaur_spend_less_than20',\n",
        "        'age',\n",
        "        'no_visited_bars',\n",
        "        'no_Take-aways',\n",
        "        'visit restaurant with rating (avg)',\n",
        "        'temperature',\n",
        "        'Restaur_spend_greater_than20',\n",
        "        'Travel Time']\n",
        "        \n",
        "income = {'Less than ₹12500':1,'₹12500 - ₹24999':2,'₹25000 - ₹37499':3,'₹37500 - ₹49999':4,'₹50000 - ₹62499':5,'₹62500 - ₹74999':6,'₹75000 - ₹87499':7,'₹87500 - ₹99999':8,'₹100000 or More':9}\n",
        "gen = {'never':1,'less1':2,'1~3':3,'4~8':4,'gt8':5}\n",
        "age = {'below21':1,'21':2,'26':3,'31':4,'36':5,'41':6,'46':7,'50plus':8}\n",
        "rating = {0:1,1:2,2:3,3:4,4:5}\n",
        "tem = {40:1,67:2,89:3}\n",
        "travel = {7:1,10:2,14:3,18:4,22:5}\n",
        "\n",
        "x_train = x_train.replace({'income_range':income,\n",
        "                           'no_visited_Cold drinks':gen,\n",
        "                           'Restaur_spend_less_than20':gen,\n",
        "                           'age':age,\n",
        "                           'no_visited_bars':gen,\n",
        "                           'no_Take-aways':gen,\n",
        "                           'visit restaurant with rating (avg)':rating,\n",
        "                           'temperature':tem,\n",
        "                           'Restaur_spend_greater_than20':gen,\n",
        "                           'Travel Time':travel})\n",
        "\n",
        "train_x = train_x.replace({'income_range':income,\n",
        "                           'no_visited_Cold drinks':gen,\n",
        "                           'Restaur_spend_less_than20':gen,\n",
        "                           'age':age,\n",
        "                           'no_visited_bars':gen,\n",
        "                           'no_Take-aways':gen,\n",
        "                           'visit restaurant with rating (avg)':rating,\n",
        "                           'temperature':tem,\n",
        "                           'Restaur_spend_greater_than20':gen,\n",
        "                           'Travel Time':travel})\n",
        "\n",
        "x_test = x_test.replace({'income_range':income,\n",
        "                           'no_visited_Cold drinks':gen,\n",
        "                           'Restaur_spend_less_than20':gen,\n",
        "                           'age':age,\n",
        "                           'no_visited_bars':gen,\n",
        "                           'no_Take-aways':gen,\n",
        "                           'visit restaurant with rating (avg)':rating,\n",
        "                           'temperature':tem,\n",
        "                           'Restaur_spend_greater_than20':gen,\n",
        "                           'Travel Time':travel})\n",
        "\n",
        "test = test.replace({'income_range':income,\n",
        "                           'no_visited_Cold drinks':gen,\n",
        "                           'Restaur_spend_less_than20':gen,\n",
        "                           'age':age,\n",
        "                           'no_visited_bars':gen,\n",
        "                           'no_Take-aways':gen,\n",
        "                           'visit restaurant with rating (avg)':rating,\n",
        "                           'temperature':tem,\n",
        "                           'Restaur_spend_greater_than20':gen,\n",
        "                           'Travel Time':travel})\n",
        "\n",
        "transformer = ColumnTransformer([('nominal',OneHotEncoder(),cols)])\n",
        "\n",
        "\n",
        "x_train = transformer.fit_transform(x_train)\n",
        "train_x = transformer.fit_transform(train_x)\n",
        "x_test = transformer.transform(x_test)\n",
        "test = transformer.transform(test)\n",
        "\n",
        "# encode = OneHotEncoder()\n",
        "# x_train = encode.fit_transform(x_train)\n",
        "# train_x = encode.fit_transform(train_x)\n",
        "# x_test = encode.transform(x_test)\n",
        "# test = encode.transform(test)"
      ]
    },
    {
      "cell_type": "code",
      "execution_count": null,
      "id": "5178a355",
      "metadata": {
        "execution": {
          "iopub.execute_input": "2022-12-18T17:00:02.459725Z",
          "iopub.status.busy": "2022-12-18T17:00:02.458756Z",
          "iopub.status.idle": "2022-12-18T17:00:02.464337Z",
          "shell.execute_reply": "2022-12-18T17:00:02.463320Z"
        },
        "papermill": {
          "duration": 0.023368,
          "end_time": "2022-12-18T17:00:02.467090",
          "exception": false,
          "start_time": "2022-12-18T17:00:02.443722",
          "status": "completed"
        },
        "tags": [],
        "id": "5178a355"
      },
      "outputs": [],
      "source": [
        "#y_train"
      ]
    },
    {
      "cell_type": "code",
      "execution_count": null,
      "id": "fd9610aa",
      "metadata": {
        "execution": {
          "iopub.execute_input": "2022-12-18T17:00:02.494101Z",
          "iopub.status.busy": "2022-12-18T17:00:02.493111Z",
          "iopub.status.idle": "2022-12-18T17:00:02.498607Z",
          "shell.execute_reply": "2022-12-18T17:00:02.497627Z"
        },
        "papermill": {
          "duration": 0.019741,
          "end_time": "2022-12-18T17:00:02.501095",
          "exception": false,
          "start_time": "2022-12-18T17:00:02.481354",
          "status": "completed"
        },
        "tags": [],
        "id": "fd9610aa"
      },
      "outputs": [],
      "source": [
        "# df=pd.DataFrame(train_x)\n",
        "# df.info()"
      ]
    },
    {
      "cell_type": "code",
      "execution_count": null,
      "id": "6082e8ca",
      "metadata": {
        "execution": {
          "iopub.execute_input": "2022-12-18T17:00:02.525374Z",
          "iopub.status.busy": "2022-12-18T17:00:02.524821Z",
          "iopub.status.idle": "2022-12-18T17:00:02.780092Z",
          "shell.execute_reply": "2022-12-18T17:00:02.779055Z"
        },
        "papermill": {
          "duration": 0.272372,
          "end_time": "2022-12-18T17:00:02.782843",
          "exception": false,
          "start_time": "2022-12-18T17:00:02.510471",
          "status": "completed"
        },
        "tags": [],
        "id": "6082e8ca"
      },
      "outputs": [],
      "source": [
        "from sklearn.metrics import f1_score,confusion_matrix\n",
        "\n",
        "from sklearn.model_selection import cross_val_score,GridSearchCV,KFold,StratifiedKFold\n",
        "\n",
        "from sklearn.feature_selection import SelectKBest,chi2\n",
        "\n",
        "from sklearn.ensemble import GradientBoostingClassifier,RandomForestClassifier,BaggingClassifier,AdaBoostClassifier,VotingClassifier\n",
        "\n",
        "from sklearn.linear_model import LogisticRegression,LogisticRegressionCV,RidgeClassifier,RidgeClassifierCV,Perceptron\n",
        "\n",
        "from sklearn.neighbors import KNeighborsClassifier,RadiusNeighborsClassifier\n",
        "\n",
        "from sklearn.naive_bayes import MultinomialNB,CategoricalNB,BernoulliNB\n",
        "\n",
        "from sklearn.svm import SVC,NuSVC,LinearSVC\n",
        "\n",
        "from sklearn import tree\n",
        "from sklearn.tree import DecisionTreeClassifier\n",
        "\n",
        "from sklearn.neural_network import MLPClassifier\n",
        "\n",
        "import xgboost as xgb"
      ]
    },
    {
      "cell_type": "code",
      "execution_count": null,
      "id": "fd936d35",
      "metadata": {
        "execution": {
          "iopub.execute_input": "2022-12-18T17:00:02.804394Z",
          "iopub.status.busy": "2022-12-18T17:00:02.803518Z",
          "iopub.status.idle": "2022-12-18T17:00:02.808804Z",
          "shell.execute_reply": "2022-12-18T17:00:02.807850Z"
        },
        "papermill": {
          "duration": 0.019243,
          "end_time": "2022-12-18T17:00:02.811293",
          "exception": false,
          "start_time": "2022-12-18T17:00:02.792050",
          "status": "completed"
        },
        "tags": [],
        "id": "fd936d35"
      },
      "outputs": [],
      "source": [
        "# skb = SelectKBest(chi2,k=40)\n",
        "# x_train = skb.fit_transform(x_train,y_train)\n",
        "# train_x = skb.fit_transform(train_x,train_y)\n",
        "# x_test = skb.transform(x_test)\n",
        "# test = skb.transform(test)"
      ]
    },
    {
      "cell_type": "code",
      "execution_count": null,
      "id": "9fce7dca",
      "metadata": {
        "execution": {
          "iopub.execute_input": "2022-12-18T17:00:02.832481Z",
          "iopub.status.busy": "2022-12-18T17:00:02.831596Z",
          "iopub.status.idle": "2022-12-18T17:00:02.837360Z",
          "shell.execute_reply": "2022-12-18T17:00:02.836145Z"
        },
        "papermill": {
          "duration": 0.019635,
          "end_time": "2022-12-18T17:00:02.840206",
          "exception": false,
          "start_time": "2022-12-18T17:00:02.820571",
          "status": "completed"
        },
        "tags": [],
        "id": "9fce7dca"
      },
      "outputs": [],
      "source": [
        "# model = xgb.XGBClassifier()\n",
        "# model.get_params()\n",
        "\n",
        "# model.fit(x_train,y_train)\n",
        "# y_pred = model.predict(x_test)\n",
        "# print(f1_score(y_test,y_pred))\n",
        "# confusion_matrix(y_test,y_pred)\n"
      ]
    },
    {
      "cell_type": "code",
      "execution_count": null,
      "id": "19305aac",
      "metadata": {
        "execution": {
          "iopub.execute_input": "2022-12-18T17:00:02.861762Z",
          "iopub.status.busy": "2022-12-18T17:00:02.860785Z",
          "iopub.status.idle": "2022-12-18T17:00:02.867014Z",
          "shell.execute_reply": "2022-12-18T17:00:02.866106Z"
        },
        "papermill": {
          "duration": 0.019878,
          "end_time": "2022-12-18T17:00:02.869511",
          "exception": false,
          "start_time": "2022-12-18T17:00:02.849633",
          "status": "completed"
        },
        "tags": [],
        "id": "19305aac"
      },
      "outputs": [],
      "source": [
        "# grid = {'objective': ['binary:logistic'],\n",
        "#  'use_label_encoder': [True,False],\n",
        "#  'booster': ['gbtree','gblinear','dart',None],\n",
        "#  'colsample_bylevel': [None],\n",
        "#  'colsample_bynode': [None],\n",
        "#  'colsample_bytree': [None],\n",
        "#  'early_stopping_rounds': [None],\n",
        "#  'enable_categorical': [True,False],\n",
        "#  'eval_metric': [None],\n",
        "#  'gamma': [None],\n",
        "#  'gpu_id': [None],\n",
        "#  'grow_policy': [0,1,None],\n",
        "#  'importance_type': [None],\n",
        "#  'interaction_constraints': [None],\n",
        "#  'learning_rate': [0.3,0.5,None],\n",
        "#  'max_bin': [None],\n",
        "#  'max_cat_to_onehot': [None],\n",
        "#  'max_delta_step': [None],\n",
        "#  'max_depth': [None],\n",
        "#  'max_leaves': [None],\n",
        "#  'min_child_weight': [None],\n",
        "#  'monotone_constraints': [None],\n",
        "#  'n_estimators': [50,100,120],\n",
        "#  'num_parallel_tree': [None],\n",
        "#  'predictor': [None],\n",
        "#  'reg_alpha': [1,0.1,None],\n",
        "#  'reg_lambda': [1,0.1,None],\n",
        "#  'sampling_method': [None],\n",
        "#  'scale_pos_weight': [None],\n",
        "#  'subsample': [None],\n",
        "#  'tree_method': ['auto',None],\n",
        "#  'validate_parameters': [None]}\n",
        "\n",
        "# best = GridSearchCV(xgb.XGBClassifier(random_state=42),grid, scoring='f1_micro', cv=3,n_jobs = -1, verbose = 0)\n",
        "# best.fit(x_train,y_train)\n",
        "# best.best_params_\n"
      ]
    },
    {
      "cell_type": "code",
      "execution_count": null,
      "id": "2d95dac0",
      "metadata": {
        "execution": {
          "iopub.execute_input": "2022-12-18T17:00:02.890262Z",
          "iopub.status.busy": "2022-12-18T17:00:02.889331Z",
          "iopub.status.idle": "2022-12-18T17:00:02.894824Z",
          "shell.execute_reply": "2022-12-18T17:00:02.893786Z"
        },
        "papermill": {
          "duration": 0.019118,
          "end_time": "2022-12-18T17:00:02.897618",
          "exception": false,
          "start_time": "2022-12-18T17:00:02.878500",
          "status": "completed"
        },
        "tags": [],
        "id": "2d95dac0"
      },
      "outputs": [],
      "source": [
        "# model = RadiusNeighborsClassifier(radius=20)\n",
        "# model.fit(x_train,y_train)\n",
        "# y_pred = model.predict(x_test)\n",
        "# print(f1_score(y_test,y_pred))\n",
        "# confusion_matrix(y_test,y_pred)\n",
        "\n",
        "# 0.7127631920977385"
      ]
    },
    {
      "cell_type": "code",
      "execution_count": null,
      "id": "a2d77e5e",
      "metadata": {
        "execution": {
          "iopub.execute_input": "2022-12-18T17:00:02.919010Z",
          "iopub.status.busy": "2022-12-18T17:00:02.918085Z",
          "iopub.status.idle": "2022-12-18T17:00:02.923642Z",
          "shell.execute_reply": "2022-12-18T17:00:02.922734Z"
        },
        "papermill": {
          "duration": 0.019432,
          "end_time": "2022-12-18T17:00:02.926313",
          "exception": false,
          "start_time": "2022-12-18T17:00:02.906881",
          "status": "completed"
        },
        "tags": [],
        "id": "a2d77e5e"
      },
      "outputs": [],
      "source": [
        "# model = RandomForestClassifier(bootstrap= True, \n",
        "#                                criterion= 'gini', \n",
        "#                                max_depth= None, \n",
        "#                                max_features= None, \n",
        "#                                min_samples_leaf= 4, \n",
        "#                                min_samples_split= 7, \n",
        "#                                n_estimators= 200)\n",
        "# model.fit(x_train,y_train)\n",
        "# y_pred = model.predict(x_test)\n",
        "# print(f1_score(y_test,y_pred))\n",
        "# confusion_matrix(y_test,y_pred)\n",
        "\n",
        "# 7143289912147834"
      ]
    },
    {
      "cell_type": "code",
      "execution_count": null,
      "id": "1806d80c",
      "metadata": {
        "execution": {
          "iopub.execute_input": "2022-12-18T17:00:02.947942Z",
          "iopub.status.busy": "2022-12-18T17:00:02.947011Z",
          "iopub.status.idle": "2022-12-18T17:00:02.952400Z",
          "shell.execute_reply": "2022-12-18T17:00:02.951489Z"
        },
        "papermill": {
          "duration": 0.018984,
          "end_time": "2022-12-18T17:00:02.954852",
          "exception": false,
          "start_time": "2022-12-18T17:00:02.935868",
          "status": "completed"
        },
        "tags": [],
        "id": "1806d80c"
      },
      "outputs": [],
      "source": [
        "# model = KNeighborsClassifier(algorithm='ball_tree',leaf_size=25,metric='hamming',\n",
        "#         metric_params= None, n_neighbors=60,p=2,weights='distance')\n",
        "\n",
        "# model.fit(x_train,y_train)\n",
        "# y_pred = model.predict(x_test)\n",
        "# print(f1_score(y_test,y_pred))\n",
        "# confusion_matrix(y_test,y_pred)\n",
        "\n",
        "# 0.7171995589856671"
      ]
    },
    {
      "cell_type": "code",
      "execution_count": null,
      "id": "0e74cf08",
      "metadata": {
        "execution": {
          "iopub.execute_input": "2022-12-18T17:00:02.975217Z",
          "iopub.status.busy": "2022-12-18T17:00:02.974697Z",
          "iopub.status.idle": "2022-12-18T17:00:02.979991Z",
          "shell.execute_reply": "2022-12-18T17:00:02.978689Z"
        },
        "papermill": {
          "duration": 0.018702,
          "end_time": "2022-12-18T17:00:02.982577",
          "exception": false,
          "start_time": "2022-12-18T17:00:02.963875",
          "status": "completed"
        },
        "tags": [],
        "id": "0e74cf08"
      },
      "outputs": [],
      "source": [
        "# model=SVC(C = 3,\n",
        "#           class_weight= None,\n",
        "#           degree= 1,\n",
        "#           gamma= 'scale',\n",
        "#           kernel= 'rbf',\n",
        "#           probability= True,\n",
        "#           shrinking= True,\n",
        "#           random_state=42)\n",
        "\n",
        "# model.fit(x_train,y_train)\n",
        "# y_pred = model.predict(x_test)\n",
        "# print(f1_score(y_test,y_pred))\n",
        "# confusion_matrix(y_test,y_pred)\n",
        "\n",
        "# 0.7134946079860098"
      ]
    },
    {
      "cell_type": "code",
      "execution_count": null,
      "id": "4f65ad79",
      "metadata": {
        "execution": {
          "iopub.execute_input": "2022-12-18T17:00:03.004238Z",
          "iopub.status.busy": "2022-12-18T17:00:03.002823Z",
          "iopub.status.idle": "2022-12-18T17:00:04.267420Z",
          "shell.execute_reply": "2022-12-18T17:00:04.265366Z"
        },
        "papermill": {
          "duration": 1.278636,
          "end_time": "2022-12-18T17:00:04.270765",
          "exception": false,
          "start_time": "2022-12-18T17:00:02.992129",
          "status": "completed"
        },
        "tags": [],
        "id": "4f65ad79",
        "outputId": "808bc16d-a971-4d9a-fcb7-148d82c0172d"
      },
      "outputs": [
        {
          "name": "stdout",
          "output_type": "stream",
          "text": [
            "0.712294828120161\n"
          ]
        },
        {
          "data": {
            "text/plain": [
              "array([[ 397,  708],\n",
              "       [ 221, 1150]])"
            ]
          },
          "execution_count": 21,
          "metadata": {},
          "output_type": "execute_result"
        }
      ],
      "source": [
        "model=xgb.XGBClassifier(learning_rate=0.013,booster='gbtree')\n",
        "model.fit(x_train,y_train)\n",
        "y_pred = model.predict(x_test)\n",
        "print(f1_score(y_test,y_pred))\n",
        "confusion_matrix(y_test,y_pred)\n",
        "\n",
        "# 0.673778389538885"
      ]
    },
    {
      "cell_type": "code",
      "execution_count": null,
      "id": "07b9eb28",
      "metadata": {
        "execution": {
          "iopub.execute_input": "2022-12-18T17:00:04.291897Z",
          "iopub.status.busy": "2022-12-18T17:00:04.291073Z",
          "iopub.status.idle": "2022-12-18T17:00:04.296784Z",
          "shell.execute_reply": "2022-12-18T17:00:04.295664Z"
        },
        "papermill": {
          "duration": 0.019268,
          "end_time": "2022-12-18T17:00:04.299216",
          "exception": false,
          "start_time": "2022-12-18T17:00:04.279948",
          "status": "completed"
        },
        "tags": [],
        "id": "07b9eb28"
      },
      "outputs": [],
      "source": [
        "# model = AdaBoostClassifier(base_estimator=RandomForestClassifier(bootstrap= True,criterion= 'gini', \n",
        "#                     max_depth= None, max_features= None, min_samples_leaf= 4,min_samples_split= 7, \n",
        "#                     n_estimators= 200),n_estimators=10)\n",
        "# model.fit(x_train,y_train)\n",
        "# y_pred = model.predict(x_test)\n",
        "# print(f1_score(y_test,y_pred))\n",
        "# confusion_matrix(y_test,y_pred)\n",
        "\n",
        "# 0.6888604353393085"
      ]
    },
    {
      "cell_type": "code",
      "execution_count": null,
      "id": "8fd079ca",
      "metadata": {
        "execution": {
          "iopub.execute_input": "2022-12-18T17:00:04.319994Z",
          "iopub.status.busy": "2022-12-18T17:00:04.319499Z",
          "iopub.status.idle": "2022-12-18T17:00:04.325121Z",
          "shell.execute_reply": "2022-12-18T17:00:04.323698Z"
        },
        "papermill": {
          "duration": 0.019156,
          "end_time": "2022-12-18T17:00:04.327899",
          "exception": false,
          "start_time": "2022-12-18T17:00:04.308743",
          "status": "completed"
        },
        "tags": [],
        "id": "8fd079ca"
      },
      "outputs": [],
      "source": [
        "# model = GradientBoostingClassifier(random_state=42,loss='deviance',learning_rate = 0.08,criterion='friedman_mse',\n",
        "#         min_samples_split= 0.025, min_samples_leaf= 0.1,max_depth=2,max_features=None,warm_start=True)\n",
        "# model.fit(x_train,y_train)\n",
        "# y_pred = model.predict(x_test)\n",
        "# print(f1_score(y_test,y_pred))\n",
        "# confusion_matrix(y_test,y_pred)\n",
        "\n",
        "#0.7053231939163499"
      ]
    },
    {
      "cell_type": "code",
      "execution_count": null,
      "id": "a9c7af8a",
      "metadata": {
        "execution": {
          "iopub.execute_input": "2022-12-18T17:00:04.349463Z",
          "iopub.status.busy": "2022-12-18T17:00:04.348629Z",
          "iopub.status.idle": "2022-12-18T17:00:04.354269Z",
          "shell.execute_reply": "2022-12-18T17:00:04.353221Z"
        },
        "papermill": {
          "duration": 0.019158,
          "end_time": "2022-12-18T17:00:04.356616",
          "exception": false,
          "start_time": "2022-12-18T17:00:04.337458",
          "status": "completed"
        },
        "tags": [],
        "id": "a9c7af8a"
      },
      "outputs": [],
      "source": [
        "# model = AdaBoostClassifier(base_estimator=SVC(C = 3,\n",
        "#           class_weight= None,\n",
        "#           degree= 1,\n",
        "#           gamma= 'scale',\n",
        "#           kernel= 'rbf',\n",
        "#           probability= True,\n",
        "#           shrinking= True,\n",
        "#           random_state=42),n_estimators=10)\n",
        "# model.fit(x_train,y_train)\n",
        "# y_pred = model.predict(x_test)\n",
        "# print(f1_score(y_test,y_pred))\n",
        "# confusion_matrix(y_test,y_pred)\n",
        "\n",
        "# 0.6928731224033238"
      ]
    },
    {
      "cell_type": "code",
      "execution_count": null,
      "id": "a65507fc",
      "metadata": {
        "execution": {
          "iopub.execute_input": "2022-12-18T17:00:04.378079Z",
          "iopub.status.busy": "2022-12-18T17:00:04.377298Z",
          "iopub.status.idle": "2022-12-18T17:00:04.383021Z",
          "shell.execute_reply": "2022-12-18T17:00:04.381949Z"
        },
        "papermill": {
          "duration": 0.019578,
          "end_time": "2022-12-18T17:00:04.385518",
          "exception": false,
          "start_time": "2022-12-18T17:00:04.365940",
          "status": "completed"
        },
        "tags": [],
        "id": "a65507fc"
      },
      "outputs": [],
      "source": [
        "# CategoricalNB().get_params()"
      ]
    },
    {
      "cell_type": "code",
      "execution_count": null,
      "id": "28f72cac",
      "metadata": {
        "execution": {
          "iopub.execute_input": "2022-12-18T17:00:04.407388Z",
          "iopub.status.busy": "2022-12-18T17:00:04.406877Z",
          "iopub.status.idle": "2022-12-18T17:00:04.411935Z",
          "shell.execute_reply": "2022-12-18T17:00:04.410574Z"
        },
        "papermill": {
          "duration": 0.019642,
          "end_time": "2022-12-18T17:00:04.414629",
          "exception": false,
          "start_time": "2022-12-18T17:00:04.394987",
          "status": "completed"
        },
        "tags": [],
        "id": "28f72cac"
      },
      "outputs": [],
      "source": [
        "# model = CategoricalNB()\n",
        "# model.fit(x_train.toarray(),y_train)\n",
        "# y_pred = model.predict(x_test.toarray())\n",
        "# print(f1_score(y_test,y_pred))\n",
        "# confusion_matrix(y_test,y_pred)\n",
        "\n",
        "# 0.6784776902887139"
      ]
    },
    {
      "cell_type": "code",
      "execution_count": null,
      "id": "560e1e52",
      "metadata": {
        "execution": {
          "iopub.execute_input": "2022-12-18T17:00:04.435697Z",
          "iopub.status.busy": "2022-12-18T17:00:04.435182Z",
          "iopub.status.idle": "2022-12-18T17:00:04.441124Z",
          "shell.execute_reply": "2022-12-18T17:00:04.439676Z"
        },
        "papermill": {
          "duration": 0.019423,
          "end_time": "2022-12-18T17:00:04.443628",
          "exception": false,
          "start_time": "2022-12-18T17:00:04.424205",
          "status": "completed"
        },
        "tags": [],
        "id": "560e1e52"
      },
      "outputs": [],
      "source": [
        "# model = BaggingClassifier(base_estimator=RandomForestClassifier(bootstrap= True, \n",
        "#                                criterion= 'gini', \n",
        "#                                max_depth= None, \n",
        "#                                max_features= None, \n",
        "#                                min_samples_leaf= 4, \n",
        "#                                min_samples_split= 7, \n",
        "#                                n_estimators= 200))\n",
        "# model.fit(x_train,y_train)\n",
        "# y_pred = model.predict(x_test)\n",
        "# print(f1_score(y_test,y_pred))\n",
        "# confusion_matrix(y_test,y_pred)\n",
        "\n",
        "# 0.6121687196715192"
      ]
    },
    {
      "cell_type": "code",
      "execution_count": null,
      "id": "a08a63e7",
      "metadata": {
        "execution": {
          "iopub.execute_input": "2022-12-18T17:00:04.465594Z",
          "iopub.status.busy": "2022-12-18T17:00:04.464236Z",
          "iopub.status.idle": "2022-12-18T17:00:04.470367Z",
          "shell.execute_reply": "2022-12-18T17:00:04.469222Z"
        },
        "papermill": {
          "duration": 0.01986,
          "end_time": "2022-12-18T17:00:04.473055",
          "exception": false,
          "start_time": "2022-12-18T17:00:04.453195",
          "status": "completed"
        },
        "tags": [],
        "id": "a08a63e7"
      },
      "outputs": [],
      "source": [
        "# {'activation': ['relu'],\n",
        "#  'alpha': [0.0001],\n",
        "#  'batch_size': [100],\n",
        "#  'early_stopping': [True],\n",
        "#  'solver': ['adam'],\n",
        "#  'warm_start': [True],       \n",
        "#  'hidden_layer_sizes': [(500,300,200,50)],\n",
        "#  'learning_rate': ['constant'],\n",
        "#  'learning_rate_init': [0.01],\n",
        "#  'max_iter': [200],\n",
        "#  'random_state': [42]}\n",
        "\n",
        "# 0.7119\n",
        "\n",
        "# model = MLPClassifier(activation='relu',alpha=0.0001,batch_size=100,early_stopping=True, solver='adam',\n",
        "#                       warm_start=True,learning_rate='constant',learning_rate_init=0.01,max_iter=200,\n",
        "#                      random_state=42,hidden_layer_sizes=(300,200,100,2))\n",
        "# model.fit(x_train,y_train)\n",
        "# y_pred = model.predict(x_test)\n",
        "# print(f1_score(y_test,y_pred))\n",
        "# confusion_matrix(y_test,y_pred)"
      ]
    },
    {
      "cell_type": "code",
      "execution_count": null,
      "id": "337406a9",
      "metadata": {
        "execution": {
          "iopub.execute_input": "2022-12-18T17:00:04.494070Z",
          "iopub.status.busy": "2022-12-18T17:00:04.493517Z",
          "iopub.status.idle": "2022-12-18T17:00:04.500156Z",
          "shell.execute_reply": "2022-12-18T17:00:04.498824Z"
        },
        "papermill": {
          "duration": 0.020173,
          "end_time": "2022-12-18T17:00:04.502740",
          "exception": false,
          "start_time": "2022-12-18T17:00:04.482567",
          "status": "completed"
        },
        "tags": [],
        "id": "337406a9"
      },
      "outputs": [],
      "source": [
        "# clf1 = BaggingClassifier(base_estimator=RandomForestClassifier(bootstrap= True, \n",
        "#                                criterion= 'gini', \n",
        "#                                max_depth= None, \n",
        "#                                max_features= None, \n",
        "#                                min_samples_leaf= 4, \n",
        "#                                min_samples_split= 7, \n",
        "#                                n_estimators= 200))\n",
        "\n",
        "# clf2 = AdaBoostClassifier(base_estimator=RandomForestClassifier(bootstrap= True,criterion= 'gini', \n",
        "#                     max_depth= None, max_features= None, min_samples_leaf= 4,min_samples_split= 7, \n",
        "#                     n_estimators= 200),n_estimators=10)\n",
        "\n",
        "# clf3 = GradientBoostingClassifier(random_state=42,loss='deviance',learning_rate = 0.08,criterion='friedman_mse',\n",
        "#          min_samples_split= 0.025, min_samples_leaf= 0.1,max_depth=2,max_features=None,warm_start=True)\n",
        "\n",
        "# clf4 = MLPClassifier(activation='relu',alpha=0.0001,batch_size=100,early_stopping=True, solver='adam',\n",
        "#                       warm_start=True,learning_rate='constant',learning_rate_init=0.01,max_iter=200,\n",
        "#                      random_state=42,hidden_layer_sizes=(1000,500,200,50))\n",
        "\n",
        "# model = VotingClassifier(estimators=[('1',clf1),('2',clf2),('3',clf3),('4',clf4)],voting='soft')\n",
        "\n",
        "# model.fit(x_train,y_train)\n",
        "# y_pred = model.predict(x_test)\n",
        "# print(f1_score(y_test,y_pred))\n",
        "# confusion_matrix(y_test,y_pred)\n",
        "\n",
        "#0.7061056627649478"
      ]
    },
    {
      "cell_type": "code",
      "execution_count": null,
      "id": "ee60bc57",
      "metadata": {
        "execution": {
          "iopub.execute_input": "2022-12-18T17:00:04.523744Z",
          "iopub.status.busy": "2022-12-18T17:00:04.523266Z",
          "iopub.status.idle": "2022-12-18T17:00:04.528665Z",
          "shell.execute_reply": "2022-12-18T17:00:04.527168Z"
        },
        "papermill": {
          "duration": 0.018918,
          "end_time": "2022-12-18T17:00:04.531172",
          "exception": false,
          "start_time": "2022-12-18T17:00:04.512254",
          "status": "completed"
        },
        "tags": [],
        "id": "ee60bc57"
      },
      "outputs": [],
      "source": [
        "# from scipy.stats import mode\n",
        "# y_pred = [mode([i,j,k])[0][0] for i,j,k in zip(y_pred1,y_pred2,y_pred3)]\n",
        "# f1_score(y_test,y_pred)"
      ]
    },
    {
      "cell_type": "code",
      "execution_count": null,
      "id": "dab18405",
      "metadata": {
        "execution": {
          "iopub.execute_input": "2022-12-18T17:00:04.552584Z",
          "iopub.status.busy": "2022-12-18T17:00:04.552081Z",
          "iopub.status.idle": "2022-12-18T17:00:04.557853Z",
          "shell.execute_reply": "2022-12-18T17:00:04.556366Z"
        },
        "papermill": {
          "duration": 0.020009,
          "end_time": "2022-12-18T17:00:04.560568",
          "exception": false,
          "start_time": "2022-12-18T17:00:04.540559",
          "status": "completed"
        },
        "tags": [],
        "id": "dab18405"
      },
      "outputs": [],
      "source": [
        "# temp=DecisionTreeClassifier()\n",
        "# temp.fit(x_train,y_train)\n",
        "# y_pred = temp.predict(x_test)\n",
        "# print(f1_score(y_test,y_pred))\n",
        "# confusion_matrix(y_test,y_pred)\n",
        "\n",
        "# 0.5773348098929495"
      ]
    },
    {
      "cell_type": "code",
      "execution_count": null,
      "id": "97938205",
      "metadata": {
        "execution": {
          "iopub.execute_input": "2022-12-18T17:00:04.581782Z",
          "iopub.status.busy": "2022-12-18T17:00:04.581236Z",
          "iopub.status.idle": "2022-12-18T17:23:13.601817Z",
          "shell.execute_reply": "2022-12-18T17:23:13.600584Z"
        },
        "papermill": {
          "duration": 1389.034833,
          "end_time": "2022-12-18T17:23:13.605003",
          "exception": false,
          "start_time": "2022-12-18T17:00:04.570170",
          "status": "completed"
        },
        "tags": [],
        "id": "97938205"
      },
      "outputs": [],
      "source": [
        "clf1 = BaggingClassifier(base_estimator=RandomForestClassifier(bootstrap= True, \n",
        "                               criterion= 'gini', \n",
        "                               max_depth= None, \n",
        "                               max_features= None, \n",
        "                               min_samples_leaf= 4, \n",
        "                               min_samples_split= 7, \n",
        "                               n_estimators= 200))\n",
        "\n",
        "clf2 = AdaBoostClassifier(base_estimator=RandomForestClassifier(bootstrap= True,criterion= 'gini', \n",
        "                    max_depth= None, max_features= None, min_samples_leaf= 4,min_samples_split= 7, \n",
        "                    n_estimators= 200),n_estimators=10)\n",
        "\n",
        "# clf3 = GradientBoostingClassifier(random_state=42,loss='deviance',learning_rate = 0.08,criterion='friedman_mse',\n",
        "#          min_samples_split= 0.025, min_samples_leaf= 0.1,max_depth=2,max_features=None,warm_start=True)\n",
        "\n",
        "clf3= xgb.XGBClassifier(learning_rate=0.013,booster='gbtree')\n",
        "\n",
        "clf4 = MLPClassifier(activation='relu',alpha=0.0001,batch_size=100,early_stopping=True, solver='adam',\n",
        "                      warm_start=True,learning_rate='constant',learning_rate_init=0.01,max_iter=200,\n",
        "                     random_state=42,hidden_layer_sizes=(500,100,200,5))\n",
        "\n",
        "\n",
        "\n",
        "temp = VotingClassifier(estimators=[('1',clf1),('2',clf2),('3',clf3),('4',clf4)],voting='soft')\n",
        "# temp = \n",
        "temp.fit(train_x, train_y)\n",
        "test_pred = temp.predict(test)\n",
        "\n",
        "ids=[id for id in range(len(list(test)))]\n",
        "s=[]\n",
        "for i in test_pred:\n",
        "    if i==1:\n",
        "        s+=['Yes']\n",
        "    else:\n",
        "        s+=['No']\n",
        "\n",
        "\n",
        "submit=pd.DataFrame({'id':ids, 'Offer Accepted':s})\n",
        "submit.to_csv('submission.csv',index=False)"
      ]
    }
  ],
  "metadata": {
    "kernelspec": {
      "display_name": "Python 3",
      "language": "python",
      "name": "python3"
    },
    "language_info": {
      "codemirror_mode": {
        "name": "ipython",
        "version": 3
      },
      "file_extension": ".py",
      "mimetype": "text/x-python",
      "name": "python",
      "nbconvert_exporter": "python",
      "pygments_lexer": "ipython3",
      "version": "3.7.12"
    },
    "papermill": {
      "default_parameters": {},
      "duration": 1404.881983,
      "end_time": "2022-12-18T17:23:14.744156",
      "environment_variables": {},
      "exception": null,
      "input_path": "__notebook__.ipynb",
      "output_path": "__notebook__.ipynb",
      "parameters": {},
      "start_time": "2022-12-18T16:59:49.862173",
      "version": "2.3.4"
    },
    "colab": {
      "provenance": []
    }
  },
  "nbformat": 4,
  "nbformat_minor": 5
}